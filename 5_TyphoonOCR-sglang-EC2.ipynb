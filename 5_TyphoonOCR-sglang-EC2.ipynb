{
 "cells": [
  {
   "cell_type": "code",
   "execution_count": null,
   "metadata": {
    "execution": {
     "iopub.execute_input": "2025-06-30T11:30:19.055039Z",
     "iopub.status.busy": "2025-06-30T11:30:19.054800Z",
     "iopub.status.idle": "2025-06-30T11:30:19.443758Z",
     "shell.execute_reply": "2025-06-30T11:30:19.443277Z",
     "shell.execute_reply.started": "2025-06-30T11:30:19.055021Z"
    }
   },
   "outputs": [],
   "source": [
    "%cd /home/sagemaker-user/olmocr/\n",
    "\n",
    "!git pull origin feat/web-ocr-interface"
   ]
  },
  {
   "cell_type": "code",
   "execution_count": null,
   "metadata": {
    "id": "79lSKrnDf4ld"
   },
   "outputs": [],
   "source": [
    "# %%capture\n",
    "# !sudo apt-get update -y\n",
    "# !sudo apt-get install -y poppler-utils ttf-mscorefonts-installer msttcorefonts fonts-crosextra-caladea fonts-crosextra-carlito gsfonts lcdf-typetools"
   ]
  },
  {
   "cell_type": "code",
   "execution_count": null,
   "metadata": {
    "id": "o179EcgGuoOS"
   },
   "outputs": [],
   "source": [
    "#!git clone https://github.com/allenai/olmocr.git\n",
    "#!git clone https://github.com/amphancm/olmocr.git --branch feat/configure-dev-port-8080\n",
    "\n",
    "%cd /home/sagemaker-user/olmocr\n",
    "#git checkout 860c6d8\n",
    "\n",
    "!pip install olmocr .   #[gpu]  --extra-index-url https://download.pytorch.org/whl/cu128"
   ]
  },
  {
   "cell_type": "code",
   "execution_count": null,
   "metadata": {
    "id": "nJVgnSFM3Dq_"
   },
   "outputs": [],
   "source": [
    "# !pip install sgl-kernel==0.1.7 --force-reinstall --no-deps\n",
    "\n",
    "# !pip install \"sglang[all]==0.4.8\" --extra-index-url https://download.pytorch.org/whl/cu128"
   ]
  },
  {
   "cell_type": "code",
   "execution_count": 10,
   "metadata": {
    "colab": {
     "base_uri": "https://localhost:8080/"
    },
    "executionInfo": {
     "elapsed": 278,
     "status": "ok",
     "timestamp": 1750993330151,
     "user": {
      "displayName": "Adun Nantakaew",
      "userId": "05145458800315565435"
     },
     "user_tz": -420
    },
    "id": "euLZDEE_mPpv",
    "outputId": "5484bf73-5e8d-402c-9b3f-63b267d06deb"
   },
   "outputs": [
    {
     "name": "stdout",
     "output_type": "stream",
     "text": [
      "rm: cannot remove '/home/ubuntu/olmocr/dolma_previews': No such file or directory\n"
     ]
    }
   ],
   "source": [
    "%rm -r /home/ubuntu/olmocr/localworkspace\n",
    "\n",
    "%rm -r /home/ubuntu/olmocr/dolma_previews"
   ]
  },
  {
   "cell_type": "code",
   "execution_count": null,
   "metadata": {},
   "outputs": [],
   "source": [
    "%%time\n",
    "%cd /home/ubuntu/olmocr\n",
    "\n",
    "!python -m  olmocr/check.py"
   ]
  },
  {
   "cell_type": "code",
   "execution_count": null,
   "metadata": {
    "colab": {
     "base_uri": "https://localhost:8080/"
    },
    "executionInfo": {
     "elapsed": 19459,
     "status": "ok",
     "timestamp": 1750993768520,
     "user": {
      "displayName": "Adun Nantakaew",
      "userId": "05145458800315565435"
     },
     "user_tz": -420
    },
    "id": "7OpMr47EI1ld",
    "outputId": "5a582094-255b-4dc5-e04f-fbe806dbfed9"
   },
   "outputs": [],
   "source": [
    "%%time\n",
    "%cd /home/ubuntu/olmocr\n",
    "\n",
    "!python -m olmocr.pipeline ./localworkspace --pdfs pdfs/border.pdf --model Adun/olmOCR-7B-thai-v3.2\n",
    "\n",
    "# !python -m olmocr.pipeline web_ui/backend/localworkspace \\\n",
    "# --pdfs web_ui/backend/uploads/border1.pdf \\\n",
    "# --model Adun/olmOCR-7B-thai-v3.2 \\\n",
    "# --output-to-stdout\n",
    "#!python -m olmocr.pipeline ./localworkspace --pdfs olmocr/pdfs/border.pdf --model scb10x/typhoon-ocr-7b"
   ]
  },
  {
   "cell_type": "code",
   "execution_count": null,
   "metadata": {
    "colab": {
     "base_uri": "https://localhost:8080/"
    },
    "executionInfo": {
     "elapsed": 692,
     "status": "ok",
     "timestamp": 1750993769228,
     "user": {
      "displayName": "Adun Nantakaew",
      "userId": "05145458800315565435"
     },
     "user_tz": -420
    },
    "id": "aarkdLX72yTz",
    "outputId": "ee3f6ece-9473-40b6-fdc6-d7b82e9228f6"
   },
   "outputs": [],
   "source": [
    "!python -m olmocr.viewer.dolmaviewer localworkspace/results/output_*.jsonl"
   ]
  },
  {
   "cell_type": "code",
   "execution_count": null,
   "metadata": {
    "id": "O5izr0vVPEo2"
   },
   "outputs": [],
   "source": [
    "import glob\n",
    "from IPython.display import Image, display\n",
    "from IPython.core.display import HTML\n",
    "\n",
    "for image_path in glob.glob(f'/home/ubuntu/olmocr/dolma_previews/*.html'):\n",
    "      display(HTML(filename=image_path))\n",
    "      print(\"\\n\")"
   ]
  },
  {
   "cell_type": "code",
   "execution_count": 4,
   "metadata": {},
   "outputs": [],
   "source": [
    "%rm -r /home/ubuntu/olmocr/web_ui/backend/localworkspace\n",
    "%rm -r /home/ubuntu/olmocr/web_ui/backend/uploads/*\n",
    "%rm -r /home/ubuntu/olmocr/olmocr-pipeline-debug.log"
   ]
  },
  {
   "cell_type": "code",
   "execution_count": null,
   "metadata": {},
   "outputs": [],
   "source": [
    "#%rm -rf /home/ubuntu/olmocr/web_ui/frontend/node_modules/.vite"
   ]
  }
 ],
 "metadata": {
  "accelerator": "GPU",
  "colab": {
   "authorship_tag": "ABX9TyO1Jz1UOYC0V3dSQYIjxDPV",
   "gpuType": "L4",
   "machine_shape": "hm",
   "mount_file_id": "1bTuYwTYcK8fk0SyIs7QHtu2znCwbOzZF",
   "provenance": [
    {
     "file_id": "1QGvHch52fqsoz_z2KtAlu1qoOlDo5fNi",
     "timestamp": 1749569428981
    },
    {
     "file_id": "1bBfKx-YGO-Kt8IOtozwPJbsO3oL_6cKY",
     "timestamp": 1745116317844
    }
   ]
  },
  "kernelspec": {
   "display_name": "Python 3",
   "language": "python",
   "name": "python3"
  },
  "language_info": {
   "codemirror_mode": {
    "name": "ipython",
    "version": 3
   },
   "file_extension": ".py",
   "mimetype": "text/x-python",
   "name": "python",
   "nbconvert_exporter": "python",
   "pygments_lexer": "ipython3",
   "version": "3.12.10"
  }
 },
 "nbformat": 4,
 "nbformat_minor": 4
}
