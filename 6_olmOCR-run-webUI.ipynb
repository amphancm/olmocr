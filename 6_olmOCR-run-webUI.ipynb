{
 "cells": [
  {
   "cell_type": "code",
   "execution_count": 6,
   "id": "42c2c0f6-c060-49da-8494-4e27b65918f7",
   "metadata": {
    "execution": {
     "iopub.execute_input": "2025-06-30T14:42:09.728616Z",
     "iopub.status.busy": "2025-06-30T14:42:09.728247Z",
     "iopub.status.idle": "2025-06-30T14:42:10.950786Z",
     "shell.execute_reply": "2025-06-30T14:42:10.950219Z",
     "shell.execute_reply.started": "2025-06-30T14:42:09.728597Z"
    }
   },
   "outputs": [
    {
     "name": "stdout",
     "output_type": "stream",
     "text": [
      "/home/sagemaker-user/olmocr/web_ui/backend\n",
      "Requirement already satisfied: Flask in /opt/conda/lib/python3.12/site-packages (from -r requirements.txt (line 1)) (3.1.1)\n",
      "Requirement already satisfied: Flask-CORS in /opt/conda/lib/python3.12/site-packages (from -r requirements.txt (line 2)) (6.0.1)\n",
      "Requirement already satisfied: blinker>=1.9.0 in /opt/conda/lib/python3.12/site-packages (from Flask->-r requirements.txt (line 1)) (1.9.0)\n",
      "Requirement already satisfied: click>=8.1.3 in /opt/conda/lib/python3.12/site-packages (from Flask->-r requirements.txt (line 1)) (8.2.1)\n",
      "Requirement already satisfied: itsdangerous>=2.2.0 in /opt/conda/lib/python3.12/site-packages (from Flask->-r requirements.txt (line 1)) (2.2.0)\n",
      "Requirement already satisfied: jinja2>=3.1.2 in /opt/conda/lib/python3.12/site-packages (from Flask->-r requirements.txt (line 1)) (3.1.6)\n",
      "Requirement already satisfied: markupsafe>=2.1.1 in /opt/conda/lib/python3.12/site-packages (from Flask->-r requirements.txt (line 1)) (3.0.2)\n",
      "Requirement already satisfied: werkzeug>=3.1.0 in /opt/conda/lib/python3.12/site-packages (from Flask->-r requirements.txt (line 1)) (3.1.3)\n"
     ]
    }
   ],
   "source": [
    "%cd /home/sagemaker-user/olmocr/web_ui/backend\n",
    "\n",
    "!pip install -r requirements.txt"
   ]
  },
  {
   "cell_type": "code",
   "execution_count": 7,
   "id": "9172893e-18fe-4db8-b0ac-feabe9f1be41",
   "metadata": {
    "execution": {
     "iopub.execute_input": "2025-06-30T14:42:13.394631Z",
     "iopub.status.busy": "2025-06-30T14:42:13.394223Z",
     "iopub.status.idle": "2025-06-30T15:03:03.615539Z",
     "shell.execute_reply": "2025-06-30T15:03:03.615010Z",
     "shell.execute_reply.started": "2025-06-30T14:42:13.394611Z"
    }
   },
   "outputs": [
    {
     "name": "stdout",
     "output_type": "stream",
     "text": [
      " * Serving Flask app 'app'\n",
      " * Debug mode: on\n",
      "INFO:werkzeug:\u001b[31m\u001b[1mWARNING: This is a development server. Do not use it in a production deployment. Use a production WSGI server instead.\u001b[0m\n",
      " * Running on http://127.0.0.1:5000\n",
      "INFO:werkzeug:\u001b[33mPress CTRL+C to quit\u001b[0m\n",
      "INFO:werkzeug: * Restarting with stat\n",
      "WARNING:werkzeug: * Debugger is active!\n",
      "INFO:werkzeug: * Debugger PIN: 116-341-421\n",
      "^C\n"
     ]
    }
   ],
   "source": [
    "!python app.py"
   ]
  },
  {
   "cell_type": "code",
   "execution_count": null,
   "id": "c7fd4963-88a9-4597-a68c-3f200db0fd4a",
   "metadata": {},
   "outputs": [],
   "source": []
  },
  {
   "cell_type": "code",
   "execution_count": 13,
   "id": "db32c729-0557-4712-a278-bdb462ab7a67",
   "metadata": {
    "execution": {
     "iopub.execute_input": "2025-06-30T15:23:41.380900Z",
     "iopub.status.busy": "2025-06-30T15:23:41.380635Z",
     "iopub.status.idle": "2025-06-30T15:23:46.873758Z",
     "shell.execute_reply": "2025-06-30T15:23:46.873177Z",
     "shell.execute_reply.started": "2025-06-30T15:23:41.380879Z"
    }
   },
   "outputs": [
    {
     "name": "stdout",
     "output_type": "stream",
     "text": [
      "/home/sagemaker-user/olmocr/web_ui/frontend\n",
      "\u001b[1G\u001b[0K⠙\u001b[1G\u001b[0K⠹\u001b[1G\u001b[0K⠸\u001b[1G\u001b[0K⠼\u001b[1G\u001b[0K⠴\u001b[1G\u001b[0K⠦\u001b[1G\u001b[0K⠧\u001b[1G\u001b[0K⠇\u001b[1G\u001b[0K⠏\u001b[1G\u001b[0K⠋\u001b[1G\u001b[0K⠙\u001b[1G\u001b[0K⠹\u001b[1G\u001b[0K⠸\u001b[1G\u001b[0K⠼\u001b[1G\u001b[0K⠴\u001b[1G\u001b[0K⠦\u001b[1G\u001b[0K⠧\u001b[1G\u001b[0K⠇\u001b[1G\u001b[0K⠏\u001b[1G\u001b[0K⠋\u001b[1G\u001b[0K⠙\u001b[1G\u001b[0K⠹\u001b[1G\u001b[0K⠸\u001b[1G\u001b[0K⠼\u001b[1G\u001b[0K⠴\u001b[1G\u001b[0K⠦\u001b[1G\u001b[0K⠧\u001b[1G\u001b[0K⠇\u001b[1G\u001b[0K⠏\u001b[1G\u001b[0K⠋\u001b[1G\u001b[0K⠙\u001b[1G\u001b[0K⠹\u001b[1G\u001b[0K⠸\u001b[1G\u001b[0K⠼\u001b[1G\u001b[0K⠴\u001b[1G\u001b[0K⠦\u001b[1G\u001b[0K⠧\u001b[1G\u001b[0K⠇\u001b[1G\u001b[0K⠏\u001b[1G\u001b[0K⠋\u001b[1G\u001b[0K⠙\u001b[1G\u001b[0K⠹\u001b[1G\u001b[0K⠸\u001b[1G\u001b[0K⠼\u001b[1G\u001b[0K⠴\u001b[1G\u001b[0K⠦\u001b[1G\u001b[0K⠧\u001b[1G\u001b[0K⠇\u001b[1G\u001b[0K⠏\u001b[1G\u001b[0K⠋\u001b[1G\u001b[0K⠙\u001b[1G\u001b[0K⠹\u001b[1G\u001b[0K⠸\u001b[1G\u001b[0K⠼\u001b[1G\u001b[0K⠴\u001b[1G\u001b[0K⠦\u001b[1G\u001b[0K⠧\u001b[1G\u001b[0K⠇\u001b[1G\u001b[0K⠏\u001b[1G\u001b[0K\n",
      "added 72 packages, and audited 73 packages in 5s\n",
      "\u001b[1G\u001b[0K⠏\u001b[1G\u001b[0K\n",
      "\u001b[1G\u001b[0K⠏\u001b[1G\u001b[0K4 packages are looking for funding\n",
      "\u001b[1G\u001b[0K⠏\u001b[1G\u001b[0K  run `npm fund` for details\n",
      "\u001b[1G\u001b[0K⠏\u001b[1G\u001b[0K\n",
      "2 \u001b[33m\u001b[1mmoderate\u001b[22m\u001b[39m severity vulnerabilities\n",
      "\n",
      "To address all issues (including breaking changes), run:\n",
      "  npm audit fix --force\n",
      "\n",
      "Run `npm audit` for details.\n",
      "\u001b[1G\u001b[0K⠏\u001b[1G\u001b[0K"
     ]
    }
   ],
   "source": [
    "%cd /home/sagemaker-user/olmocr/web_ui/frontend/\n",
    "\n",
    "!npm install"
   ]
  },
  {
   "cell_type": "code",
   "execution_count": 14,
   "id": "695b6065-fd5c-48ec-a2e6-77a7c91a03a2",
   "metadata": {
    "execution": {
     "iopub.execute_input": "2025-06-30T15:23:58.344563Z",
     "iopub.status.busy": "2025-06-30T15:23:58.344298Z",
     "iopub.status.idle": "2025-06-30T15:23:58.893598Z",
     "shell.execute_reply": "2025-06-30T15:23:58.893102Z",
     "shell.execute_reply.started": "2025-06-30T15:23:58.344543Z"
    }
   },
   "outputs": [
    {
     "name": "stdout",
     "output_type": "stream",
     "text": [
      "\u001b[1G\u001b[0K⠙\u001b[1G\u001b[0KWrote to /home/sagemaker-user/olmocr/web_ui/frontend/package.json:\n",
      "\n",
      "{\n",
      "  \"name\": \"olmocr-frontend\",\n",
      "  \"private\": true,\n",
      "  \"version\": \"0.0.0\",\n",
      "  \"type\": \"module\",\n",
      "  \"scripts\": {\n",
      "    \"dev\": \"vite\",\n",
      "    \"build\": \"vite build\",\n",
      "    \"preview\": \"vite preview\"\n",
      "  },\n",
      "  \"dependencies\": {\n",
      "    \"vue\": \"^3.4.0\"\n",
      "  },\n",
      "  \"devDependencies\": {\n",
      "    \"@vitejs/plugin-vue\": \"^5.0.0\",\n",
      "    \"vite\": \"^5.0.0\"\n",
      "  },\n",
      "  \"description\": \"This template should help get you started developing with Vue 3 in Vite. The template uses Vue 3 `<script setup>` SFCs, check out the [script setup docs](https://v3.vuejs.org/api/sfc-script-setup.html#sfc-script-setup) to learn more.\",\n",
      "  \"main\": \"vite.config.js\",\n",
      "  \"keywords\": [],\n",
      "  \"author\": \"\",\n",
      "  \"license\": \"ISC\"\n",
      "}\n",
      "\n",
      "\n",
      "\n",
      "\u001b[1G\u001b[0K⠙\u001b[1G\u001b[0K"
     ]
    }
   ],
   "source": [
    "!npm init -y"
   ]
  },
  {
   "cell_type": "code",
   "execution_count": null,
   "id": "bc6f9e0b-71ac-44ad-98b3-5fd3cf615d21",
   "metadata": {
    "execution": {
     "iopub.execute_input": "2025-06-30T15:24:02.753966Z",
     "iopub.status.busy": "2025-06-30T15:24:02.753485Z"
    }
   },
   "outputs": [
    {
     "name": "stdout",
     "output_type": "stream",
     "text": [
      "\n",
      "> olmocr-frontend@0.0.0 dev\n",
      "> vite\n",
      "\n",
      "\u001b[1G\u001b[0K\n",
      "\n",
      "\n",
      "\n",
      "\n",
      "\n",
      "\n",
      "\n",
      "\n",
      "\n",
      "\n",
      "\n",
      "\n",
      "\n",
      "\n",
      "\n",
      "\n",
      "\n",
      "\n",
      "\n",
      "\n",
      "\n",
      "\n",
      "\u001b[1;1H\u001b[0J\n",
      "  \u001b[32m\u001b[1mVITE\u001b[22m v5.4.19\u001b[39m  \u001b[2mready in \u001b[0m\u001b[1m294\u001b[22m\u001b[2m\u001b[0m ms\u001b[22m\n",
      "\n",
      "  \u001b[32m➜\u001b[39m  \u001b[1mLocal\u001b[22m:   \u001b[36mhttp://localhost:\u001b[1m5173\u001b[22m/\u001b[39m\n",
      "\u001b[2m  \u001b[32m➜\u001b[39m  \u001b[1mNetwork\u001b[22m\u001b[2m: use \u001b[22m\u001b[1m--host\u001b[22m\u001b[2m to expose\u001b[22m\n",
      "\u001b[2m\u001b[32m  ➜\u001b[39m\u001b[22m\u001b[2m  press \u001b[22m\u001b[1mh + enter\u001b[22m\u001b[2m to show help\u001b[22m\n",
      "Error: The following dependencies are imported but could not be resolved:\n",
      "\n",
      "  \u001b[36maxios\u001b[39m \u001b[37m\u001b[2m(imported by /home/sagemaker-user/olmocr/web_ui/frontend/src/App.vue?id=0)\u001b[22m\u001b[39m\n",
      "\n",
      "Are they installed?\n",
      "    at file:///home/sagemaker-user/olmocr/web_ui/frontend/node_modules/vite/dist/node/chunks/dep-C6uTJdX2.js:50669:15\n",
      "    at process.processTicksAndRejections (node:internal/process/task_queues:95:5)\n",
      "    at async file:///home/sagemaker-user/olmocr/web_ui/frontend/node_modules/vite/dist/node/chunks/dep-C6uTJdX2.js:50174:26\n"
     ]
    }
   ],
   "source": [
    "!npm run dev"
   ]
  },
  {
   "cell_type": "code",
   "execution_count": null,
   "id": "52185bb8-2f0c-49a3-bc43-8d25e525541a",
   "metadata": {},
   "outputs": [],
   "source": []
  }
 ],
 "metadata": {
  "kernelspec": {
   "display_name": "Python 3 (ipykernel)",
   "language": "python",
   "name": "python3"
  },
  "language_info": {
   "codemirror_mode": {
    "name": "ipython",
    "version": 3
   },
   "file_extension": ".py",
   "mimetype": "text/x-python",
   "name": "python",
   "nbconvert_exporter": "python",
   "pygments_lexer": "ipython3",
   "version": "3.12.9"
  }
 },
 "nbformat": 4,
 "nbformat_minor": 5
}
